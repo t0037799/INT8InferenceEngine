{
 "cells": [
  {
   "cell_type": "code",
   "execution_count": 1,
   "metadata": {},
   "outputs": [],
   "source": [
    "import torch\n",
    "import torchvision\n",
    "import matplotlib.pyplot as plt\n",
    "import argparse\n",
    "import torch.nn as nn\n",
    "import torch.nn.functional as F\n",
    "import torch.optim as optim\n",
    "from torchvision import datasets, transforms\n",
    "\n",
    "\n",
    "class Net(nn.Module):\n",
    "    def __init__(self):\n",
    "        super().__init__()\n",
    "        self.quantized = False\n",
    "        self.fc = nn.Linear(784, 10)\n",
    "    def forward(self, x):\n",
    "        if self.quantized:\n",
    "            x = torch.quantize_per_tensor(x,0.02,51,torch.quint8)\n",
    "        x = x.reshape(-1, 784)\n",
    "        x = self.fc(x)\n",
    "        if self.quantized:\n",
    "            x = x.dequantize()\n",
    "        return F.log_softmax(x, dim=1)\n",
    "    def fuse_model(self):\n",
    "        self.quantized =True"
   ]
  },
  {
   "cell_type": "code",
   "execution_count": 2,
   "metadata": {},
   "outputs": [
    {
     "data": {
      "text/plain": [
       "<All keys matched successfully>"
      ]
     },
     "execution_count": 2,
     "metadata": {},
     "output_type": "execute_result"
    }
   ],
   "source": [
    "model = Net()\n",
    "model.load_state_dict(torch.load('model28.pt'))"
   ]
  },
  {
   "cell_type": "code",
   "execution_count": 3,
   "metadata": {},
   "outputs": [],
   "source": [
    "batch_size = 10000\n",
    "transform = transforms.Compose(\n",
    "    [           transforms.ToTensor(),\n",
    "    ])\n",
    "test_dataset = torchvision.datasets.MNIST(root='./data/mnist/', train=False,\n",
    "                                       download=True, transform=transform)\n",
    "test_loader = torch.utils.data.DataLoader(test_dataset, batch_size=batch_size,\n",
    "                                         shuffle=False)\n",
    "xs = []\n",
    "ts = []\n",
    "for batch_idx, (x, target) in enumerate(test_loader):\n",
    "    xs.append(x)\n",
    "    ts.append(target)"
   ]
  },
  {
   "cell_type": "code",
   "execution_count": 4,
   "metadata": {},
   "outputs": [
    {
     "name": "stdout",
     "output_type": "stream",
     "text": [
      "tensor(9250)\n",
      "CPU times: user 0 ns, sys: 5.05 ms, total: 5.05 ms\n",
      "Wall time: 2.57 ms\n"
     ]
    }
   ],
   "source": [
    "%%time\n",
    "correct_cnt, ave_loss = 0, 0\n",
    "model.eval()\n",
    "for x,target in zip(xs,ts):\n",
    "    out = model(x)\n",
    "    _, pred_label = torch.max(out.data, 1)\n",
    "    correct_cnt += (pred_label == target.data).sum()\n",
    "\n",
    "print(correct_cnt)"
   ]
  },
  {
   "cell_type": "code",
   "execution_count": 5,
   "metadata": {},
   "outputs": [],
   "source": [
    "qconfig = torch.quantization.get_default_qat_qconfig('fbgemm')\n",
    "model.qconfig = qconfig\n",
    "torch.quantization.prepare(model, inplace=True)\n",
    "for x,target in zip(xs,ts):\n",
    "    out = model(x)\n",
    "torch.quantization.convert(model, inplace=True)\n",
    "model.fuse_model()"
   ]
  },
  {
   "cell_type": "code",
   "execution_count": 6,
   "metadata": {},
   "outputs": [
    {
     "name": "stdout",
     "output_type": "stream",
     "text": [
      "tensor(9249)\n",
      "CPU times: user 18.7 ms, sys: 5.23 ms, total: 23.9 ms\n",
      "Wall time: 3.78 ms\n"
     ]
    }
   ],
   "source": [
    "%%time\n",
    "correct_cnt, ave_loss = 0, 0\n",
    "model.eval()\n",
    "for x,target in zip(xs,ts):\n",
    "    out = model(x)\n",
    "    _, pred_label = torch.max(out.data, 1)\n",
    "    correct_cnt += (pred_label == target.data).sum()\n",
    "\n",
    "print(correct_cnt)"
   ]
  }
 ],
 "metadata": {
  "kernelspec": {
   "display_name": "Python 3",
   "language": "python",
   "name": "python3"
  },
  "language_info": {
   "codemirror_mode": {
    "name": "ipython",
    "version": 3
   },
   "file_extension": ".py",
   "mimetype": "text/x-python",
   "name": "python",
   "nbconvert_exporter": "python",
   "pygments_lexer": "ipython3",
   "version": "3.7.4"
  }
 },
 "nbformat": 4,
 "nbformat_minor": 2
}
