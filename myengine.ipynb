{
 "cells": [
  {
   "cell_type": "code",
   "execution_count": 1,
   "metadata": {},
   "outputs": [],
   "source": [
    "import torch\n",
    "import torch.nn as nn\n",
    "import torch.nn.functional as F\n",
    "import torchvision\n",
    "from torchvision import datasets, transforms\n",
    "\n",
    "import time\n",
    "import numpy as np\n",
    "import i8ie\n",
    "\n",
    "def log_softmax(x):\n",
    "    e_x = np.exp(x[:,] - np.max(x[:,]))\n",
    "    return np.log(e_x / e_x.sum())\n",
    "\n",
    "class Net(nn.Module):\n",
    "    def __init__(self):\n",
    "        super().__init__()\n",
    "        self.fc = nn.Linear(784, 10)\n",
    "    def forward(self, x):\n",
    "        x = x.reshape(-1, 784)\n",
    "        x = self.fc(x)\n",
    "        return F.log_softmax(x, dim=1)\n",
    "\n",
    "model = Net()\n",
    "model.load_state_dict(torch.load('model28.pt'))\n",
    "\n",
    "batch_size = 10000\n",
    "transform = transforms.Compose(\n",
    "    [\n",
    "        transforms.ToTensor(),\n",
    "    ])\n",
    "test_dataset = torchvision.datasets.MNIST(root='./data/mnist/', train=False,\n",
    "                                       download=True, transform=transform)\n",
    "test_loader = torch.utils.data.DataLoader(test_dataset, batch_size=batch_size,\n",
    "                                         shuffle=False)\n",
    "\n",
    "xs = []\n",
    "ts = []\n",
    "for batch_idx, (x, target) in enumerate(test_loader):\n",
    "    xs.append(x)\n",
    "    ts.append(target)"
   ]
  },
  {
   "cell_type": "code",
   "execution_count": 2,
   "metadata": {},
   "outputs": [],
   "source": [
    "w = model.state_dict()['fc.weight'].numpy()\n",
    "b = model.state_dict()['fc.bias'].numpy()"
   ]
  },
  {
   "cell_type": "code",
   "execution_count": 3,
   "metadata": {},
   "outputs": [
    {
     "name": "stdout",
     "output_type": "stream",
     "text": [
      "9134\n",
      "CPU times: user 17.2 ms, sys: 1.25 ms, total: 18.5 ms\n",
      "Wall time: 5.74 ms\n"
     ]
    }
   ],
   "source": [
    "%%time\n",
    "correct_cnt = 0\n",
    "for x,target in zip(xs,ts):\n",
    "    x = x.reshape(-1,784).numpy()\n",
    "    x = i8ie.qfc(w,b,x)\n",
    "    p = np.argmax(log_softmax(x), axis = 1)\n",
    "    correct_cnt += (p == target.numpy()).sum()\n",
    "    \n",
    "print(correct_cnt)"
   ]
  },
  {
   "cell_type": "code",
   "execution_count": 4,
   "metadata": {},
   "outputs": [
    {
     "name": "stdout",
     "output_type": "stream",
     "text": [
      "tensor(9250)\n",
      "CPU times: user 18.2 ms, sys: 0 ns, total: 18.2 ms\n",
      "Wall time: 2.27 ms\n"
     ]
    }
   ],
   "source": [
    "%%time\n",
    "correct_cnt, ave_loss = 0, 0\n",
    "for x,target in zip(xs,ts):\n",
    "    out = model(x)\n",
    "    _, pred_label = torch.max(out.data, 1)\n",
    "    correct_cnt += (pred_label == target.data).sum()\n",
    "print(correct_cnt)"
   ]
  }
 ],
 "metadata": {
  "kernelspec": {
   "display_name": "Python 3",
   "language": "python",
   "name": "python3"
  },
  "language_info": {
   "codemirror_mode": {
    "name": "ipython",
    "version": 3
   },
   "file_extension": ".py",
   "mimetype": "text/x-python",
   "name": "python",
   "nbconvert_exporter": "python",
   "pygments_lexer": "ipython3",
   "version": "3.7.4"
  }
 },
 "nbformat": 4,
 "nbformat_minor": 2
}
