{
 "cells": [
  {
   "cell_type": "code",
   "execution_count": 1,
   "metadata": {},
   "outputs": [],
   "source": [
    "import torch\n",
    "import torch.nn as nn\n",
    "import torch.nn.functional as F\n",
    "import torchvision\n",
    "from torchvision import datasets, transforms\n",
    "\n",
    "import time\n",
    "import numpy as np\n",
    "import i8ie\n",
    "\n",
    "class Net(nn.Module):\n",
    "    def __init__(self):\n",
    "        super().__init__()\n",
    "        self.fc = nn.Linear(784, 10)\n",
    "    def forward(self, x):\n",
    "        x = x.reshape(-1, 784)\n",
    "        x = self.fc(x)\n",
    "        return x\n",
    "    \n",
    "class MyNet(i8ie.Module):\n",
    "    def __init__(self):\n",
    "        super().__init__()\n",
    "        self.fc = i8ie.Linear(784, 10)\n",
    "    def forward(self, x):\n",
    "        x = x.reshape(-1, 784)\n",
    "        x = self.fc(x)\n",
    "        return x\n",
    "    \n",
    "state_dict = torch.load('fc_mnist28.pt')\n",
    "torch_model = Net()\n",
    "torch_model.load_state_dict(state_dict)\n",
    "my_model = MyNet()\n",
    "my_model.load(state_dict)"
   ]
  },
  {
   "cell_type": "code",
   "execution_count": 2,
   "metadata": {},
   "outputs": [],
   "source": [
    "batch_size = 100\n",
    "transform = torchvision.transforms.Compose(\n",
    "    [transforms.ToTensor()]\n",
    ")\n",
    "\n",
    "test_dataset = torchvision.datasets.MNIST('./data/mnist', train=False, download=True,transform=transform)\n",
    "test_loader = torch.utils.data.DataLoader(test_dataset, batch_size=batch_size, shuffle=False)\n",
    "cal_loader = torch.utils.data.DataLoader(test_dataset, batch_size=100, shuffle=True)\n",
    "\n",
    "xs = []\n",
    "ts = []\n",
    "xss = []\n",
    "tss = []\n",
    "for batch_idx, (x, target) in enumerate(test_loader):\n",
    "    xs.append(i8ie.tensor(x))\n",
    "    ts.append(i8ie.tensor(target))\n",
    "    xss.append(x)\n",
    "    tss.append(target)\n",
    "    if batch_idx >= 100:\n",
    "        break"
   ]
  },
  {
   "cell_type": "code",
   "execution_count": 3,
   "metadata": {},
   "outputs": [
    {
     "name": "stdout",
     "output_type": "stream",
     "text": [
      "tensor(9250)\n",
      "CPU times: user 63 ms, sys: 0 ns, total: 63 ms\n",
      "Wall time: 9 ms\n"
     ]
    }
   ],
   "source": [
    "%%time\n",
    "correct_cnt = 0\n",
    "for x,target in zip(xss,tss):\n",
    "    out = torch_model(x)\n",
    "    _, pred_label = torch.max(out.data, 1)\n",
    "    correct_cnt += (pred_label == target.data).sum()\n",
    "    \n",
    "print(correct_cnt)"
   ]
  },
  {
   "cell_type": "code",
   "execution_count": 4,
   "metadata": {},
   "outputs": [
    {
     "name": "stdout",
     "output_type": "stream",
     "text": [
      "9250.0\n",
      "CPU times: user 30.2 ms, sys: 0 ns, total: 30.2 ms\n",
      "Wall time: 3.76 ms\n"
     ]
    }
   ],
   "source": [
    "%%time\n",
    "correct_cnt = 0\n",
    "for x,target in zip(xs,ts):\n",
    "    x = my_model(x)\n",
    "    p = i8ie.argmax(x, axis = 1)\n",
    "    correct_cnt += (p == target).sum()\n",
    "\n",
    "print(correct_cnt)"
   ]
  },
  {
   "cell_type": "code",
   "execution_count": 5,
   "metadata": {},
   "outputs": [
    {
     "name": "stdout",
     "output_type": "stream",
     "text": [
      "CPU times: user 55.5 ms, sys: 3.83 ms, total: 59.3 ms\n",
      "Wall time: 7.39 ms\n"
     ]
    }
   ],
   "source": [
    "%%time\n",
    "my_model.prepare()\n",
    "for batch_idx, (x, target) in enumerate(cal_loader):\n",
    "    x = my_model(i8ie.tensor(x))\n",
    "    break\n",
    "my_model.convert()"
   ]
  },
  {
   "cell_type": "code",
   "execution_count": 6,
   "metadata": {},
   "outputs": [
    {
     "name": "stdout",
     "output_type": "stream",
     "text": [
      "9256.0\n",
      "CPU times: user 156 ms, sys: 0 ns, total: 156 ms\n",
      "Wall time: 19.6 ms\n"
     ]
    }
   ],
   "source": [
    "%%time\n",
    "correct_cnt = 0\n",
    "for x,target in zip(xs,ts):\n",
    "    x = my_model(x)\n",
    "    p = i8ie.argmax(x, axis = 1)\n",
    "    correct_cnt += (p == target).sum()\n",
    "print(correct_cnt)"
   ]
  }
 ],
 "metadata": {
  "kernelspec": {
   "display_name": "Python 3",
   "language": "python",
   "name": "python3"
  },
  "language_info": {
   "codemirror_mode": {
    "name": "ipython",
    "version": 3
   },
   "file_extension": ".py",
   "mimetype": "text/x-python",
   "name": "python",
   "nbconvert_exporter": "python",
   "pygments_lexer": "ipython3",
   "version": "3.7.4"
  }
 },
 "nbformat": 4,
 "nbformat_minor": 2
}
