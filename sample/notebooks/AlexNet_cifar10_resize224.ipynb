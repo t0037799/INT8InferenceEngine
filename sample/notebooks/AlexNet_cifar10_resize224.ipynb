{
 "cells": [
  {
   "cell_type": "code",
   "execution_count": 1,
   "metadata": {},
   "outputs": [],
   "source": [
    "import torch\n",
    "import torch.nn as nn\n",
    "import torch.nn.functional as F\n",
    "import torchvision\n",
    "from torchvision import datasets, transforms\n",
    "\n",
    "import time\n",
    "import numpy as np\n",
    "import i8ie\n",
    "\n",
    "\n",
    "class Net(nn.Module):    \n",
    "\n",
    "    def __init__(self):\n",
    "        super().__init__()\n",
    "        self.conv1 = nn.Conv2d(3, 96, kernel_size=11, stride=4, padding=2)\n",
    "        self.conv2 = nn.Conv2d(96, 256, kernel_size=5, padding=2)\n",
    "        self.conv3 = nn.Conv2d(256, 384, kernel_size=3, padding=1)\n",
    "        self.conv4 = nn.Conv2d(384, 384, kernel_size=3, padding=1)\n",
    "        self.conv5 = nn.Conv2d(384, 256, kernel_size=3, padding=1)\n",
    "        self.fc1= nn.Linear(256 * 6 * 6, 4096)\n",
    "        self.fc2 = nn.Linear(4096, 4096)\n",
    "        self.fc3 = nn.Linear(4096, 10)\n",
    "\n",
    "    def forward(self, x):\n",
    "        x = F.relu(self.conv1(x))\n",
    "        x = F.max_pool2d(x, 3, 2)\n",
    "        x = F.max_pool2d(F.relu(self.conv2(x)), 3, 2)\n",
    "        x = F.relu(self.conv3(x))\n",
    "        x = F.relu(self.conv4(x))\n",
    "        x = F.max_pool2d(F.relu(self.conv5(x)), 3, 2)\n",
    "        x = x.reshape(-1, 6*6*256)\n",
    "        x = F.relu(self.fc1(x))\n",
    "        x = F.relu(self.fc2(x))\n",
    "        x = self.fc3(x)\n",
    "        return x\n",
    "\n",
    "    \n",
    "class MyNet(i8ie.Module):    \n",
    "\n",
    "    def __init__(self):\n",
    "        super().__init__()\n",
    "        self.conv1 = i8ie.Conv2d(3, 96, kernel_size=11, stride=4, padding=2)\n",
    "        self.conv2 = i8ie.Conv2d(96, 256, kernel_size=5, padding=2)\n",
    "        self.conv3 = i8ie.Conv2d(256, 384, kernel_size=3, padding=1)\n",
    "        self.conv4 = i8ie.Conv2d(384, 384, kernel_size=3, padding=1)\n",
    "        self.conv5 = i8ie.Conv2d(384, 256, kernel_size=3, padding=1)\n",
    "        self.fc1= i8ie.Linear(256 * 6 * 6, 4096)\n",
    "        self.fc2 = i8ie.Linear(4096, 4096)\n",
    "        self.fc3 = i8ie.Linear(4096, 10)\n",
    "\n",
    "    def forward(self, x):\n",
    "        x = i8ie.relu(self.conv1(x))\n",
    "        x = i8ie.max_pool2d(x, 3, 2)\n",
    "        x = i8ie.max_pool2d(i8ie.relu(self.conv2(x)), 3, 2)\n",
    "        x = i8ie.relu(self.conv3(x))\n",
    "        x = i8ie.relu(self.conv4(x))\n",
    "        x = i8ie.max_pool2d(i8ie.relu(self.conv5(x)), 3, 2)\n",
    "        x = x.reshape(-1, 6*6*256)\n",
    "        x = i8ie.relu(self.fc1(x))\n",
    "        x = i8ie.relu(self.fc2(x))\n",
    "        x = self.fc3(x)\n",
    "        return x\n",
    "\n",
    "state_dict = torch.load('alex_cifar10_224.pt')\n",
    "torch_model = Net()\n",
    "torch_model.load_state_dict(state_dict)\n",
    "my_model = MyNet()\n",
    "my_model.load(state_dict)"
   ]
  },
  {
   "cell_type": "code",
   "execution_count": 2,
   "metadata": {},
   "outputs": [
    {
     "name": "stdout",
     "output_type": "stream",
     "text": [
      "Files already downloaded and verified\n"
     ]
    }
   ],
   "source": [
    "batch_size = 100\n",
    "transform = torchvision.transforms.Compose(\n",
    "    [\n",
    "        transforms.Resize(224),\n",
    "        transforms.ToTensor(),\n",
    "        transforms.Normalize(mean=[0.485, 0.456, 0.406],\n",
    "                                     std=[0.229, 0.224, 0.225])\n",
    "    ]\n",
    ")\n",
    "\n",
    "test_dataset = torchvision.datasets.CIFAR10('./data/cifar10', train=False, download=True,transform=transform)\n",
    "test_loader = torch.utils.data.DataLoader(test_dataset, batch_size=batch_size, shuffle=False)\n",
    "cal_loader = torch.utils.data.DataLoader(test_dataset, batch_size=100, shuffle=True)\n",
    "\n",
    "xs = []\n",
    "ts = []\n",
    "xss = []\n",
    "tss = []\n",
    "for batch_idx, (x, target) in enumerate(test_loader):\n",
    "    xs.append(i8ie.tensor(x))\n",
    "    ts.append(i8ie.tensor(target))\n",
    "    xss.append(x)\n",
    "    tss.append(target)\n",
    "    if batch_idx >= 100:\n",
    "        break"
   ]
  },
  {
   "cell_type": "code",
   "execution_count": 3,
   "metadata": {},
   "outputs": [
    {
     "name": "stdout",
     "output_type": "stream",
     "text": [
      "tensor(7775)\n",
      "CPU times: user 4min 51s, sys: 4.75 s, total: 4min 56s\n",
      "Wall time: 37.1 s\n"
     ]
    }
   ],
   "source": [
    "%%time\n",
    "correct_cnt = 0\n",
    "for x,target in zip(xss,tss):\n",
    "    out = torch_model(x)\n",
    "    _, pred_label = torch.max(out.data, 1)\n",
    "    correct_cnt += (pred_label == target.data).sum()\n",
    "    \n",
    "print(correct_cnt)"
   ]
  },
  {
   "cell_type": "code",
   "execution_count": 4,
   "metadata": {},
   "outputs": [
    {
     "name": "stdout",
     "output_type": "stream",
     "text": [
      "7775.0\n",
      "CPU times: user 6min 22s, sys: 3.9 s, total: 6min 26s\n",
      "Wall time: 48.3 s\n"
     ]
    }
   ],
   "source": [
    "%%time\n",
    "correct_cnt = 0\n",
    "for x,target in zip(xs,ts):\n",
    "    x = my_model(x)\n",
    "    p = i8ie.argmax(x, axis = 1)\n",
    "    correct_cnt += (p == target).sum()\n",
    "\n",
    "print(correct_cnt)"
   ]
  },
  {
   "cell_type": "code",
   "execution_count": 5,
   "metadata": {},
   "outputs": [
    {
     "name": "stdout",
     "output_type": "stream",
     "text": [
      "CPU times: user 10.4 s, sys: 196 ms, total: 10.6 s\n",
      "Wall time: 1.46 s\n"
     ]
    }
   ],
   "source": [
    "%%time\n",
    "my_model.prepare()\n",
    "for batch_idx, (x, target) in enumerate(cal_loader):\n",
    "    x = my_model(i8ie.tensor(x))\n",
    "    break\n",
    "my_model.convert()"
   ]
  },
  {
   "cell_type": "code",
   "execution_count": 6,
   "metadata": {},
   "outputs": [
    {
     "name": "stdout",
     "output_type": "stream",
     "text": [
      "7642.0\n",
      "CPU times: user 4min 51s, sys: 1.47 s, total: 4min 52s\n",
      "Wall time: 36.6 s\n"
     ]
    }
   ],
   "source": [
    "%%time\n",
    "correct_cnt = 0\n",
    "for x,target in zip(xs,ts):\n",
    "    x = my_model(x)\n",
    "    p = i8ie.argmax(x, axis = 1)\n",
    "    correct_cnt += (p == target).sum()\n",
    "print(correct_cnt)"
   ]
  }
 ],
 "metadata": {
  "kernelspec": {
   "display_name": "Python 3",
   "language": "python",
   "name": "python3"
  },
  "language_info": {
   "codemirror_mode": {
    "name": "ipython",
    "version": 3
   },
   "file_extension": ".py",
   "mimetype": "text/x-python",
   "name": "python",
   "nbconvert_exporter": "python",
   "pygments_lexer": "ipython3",
   "version": "3.7.4"
  }
 },
 "nbformat": 4,
 "nbformat_minor": 2
}
