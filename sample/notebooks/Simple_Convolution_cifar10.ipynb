{
 "cells": [
  {
   "cell_type": "code",
   "execution_count": 1,
   "metadata": {},
   "outputs": [],
   "source": [
    "import torch\n",
    "import torch.nn as nn\n",
    "import torch.nn.functional as F\n",
    "import torchvision\n",
    "from torchvision import datasets, transforms\n",
    "\n",
    "import time\n",
    "import numpy as np\n",
    "import i8ie\n",
    "\n",
    "class Net(nn.Module):    \n",
    "\n",
    "    def __init__(self):\n",
    "        super().__init__()\n",
    "        self.quantized = False\n",
    "        self.conv1 = nn.Conv2d(3, 20, kernel_size=5)\n",
    "        self.conv2 = nn.Conv2d(20, 50, kernel_size=5)\n",
    "        self.conv3 = nn.Conv2d(50, 120, kernel_size=5)\n",
    "        self.fc = nn.Linear(960*8, 10)\n",
    "\n",
    "    def forward(self, x):\n",
    "        x = self.conv1(x)\n",
    "        x = F.relu(x)\n",
    "        x = self.conv2(x)\n",
    "        x = F.relu(x)\n",
    "        x = F.max_pool2d(x, 2,2)\n",
    "        x = self.conv3(x)\n",
    "        x = F.relu(x)\n",
    "        x = x.reshape(-1, 960*8)\n",
    "        x = self.fc(x)\n",
    "        return x\n",
    "\n",
    "class MyNet(i8ie.Module):\n",
    "    def __init__(self):\n",
    "        super().__init__()\n",
    "        self.quantized = False\n",
    "        self.conv1 = i8ie.Conv2d(3, 20, kernel_size=5)\n",
    "        self.conv2 = i8ie.Conv2d(20, 50, kernel_size=5)\n",
    "        self.conv3 = i8ie.Conv2d(50, 120, kernel_size=5)\n",
    "        self.fc = i8ie.Linear(960*8, 10)\n",
    "\n",
    "    def forward(self, x):\n",
    "        x = i8ie.relu(self.conv1(x))\n",
    "        x = i8ie.relu(self.conv2(x))\n",
    "        x = i8ie.max_pool2d(x, 2,2)\n",
    "        x = i8ie.relu(self.conv3(x))\n",
    "        x = x.reshape(-1, 960*8)\n",
    "        x = self.fc(x)\n",
    "        return x\n",
    "    \n",
    "state_dict = torch.load('conv_cifar10_32.pt')\n",
    "torch_model = Net()\n",
    "torch_model.load_state_dict(state_dict)\n",
    "my_model = MyNet()\n",
    "my_model.load(state_dict)"
   ]
  },
  {
   "cell_type": "code",
   "execution_count": 2,
   "metadata": {},
   "outputs": [
    {
     "name": "stdout",
     "output_type": "stream",
     "text": [
      "Files already downloaded and verified\n"
     ]
    }
   ],
   "source": [
    "batch_size = 100\n",
    "transform = torchvision.transforms.Compose(\n",
    "    [\n",
    "        transforms.ToTensor(),\n",
    "        transforms.Normalize(mean=[0.485, 0.456, 0.406],\n",
    "                                     std=[0.229, 0.224, 0.225])\n",
    "    ]\n",
    ")\n",
    "\n",
    "test_dataset = torchvision.datasets.CIFAR10('./data/cifar10', train=False, download=True,transform=transform)\n",
    "test_loader = torch.utils.data.DataLoader(test_dataset, batch_size=batch_size, shuffle=False)\n",
    "cal_loader = torch.utils.data.DataLoader(test_dataset, batch_size=100, shuffle=True)\n",
    "\n",
    "xs = []\n",
    "ts = []\n",
    "xss = []\n",
    "tss = []\n",
    "for batch_idx, (x, target) in enumerate(test_loader):\n",
    "    xs.append(i8ie.tensor(x))\n",
    "    ts.append(i8ie.tensor(target))\n",
    "    xss.append(x)\n",
    "    tss.append(target)\n",
    "    if batch_idx >= 100:\n",
    "        break"
   ]
  },
  {
   "cell_type": "code",
   "execution_count": 3,
   "metadata": {},
   "outputs": [
    {
     "name": "stdout",
     "output_type": "stream",
     "text": [
      "tensor(7033)\n",
      "CPU times: user 10.2 s, sys: 43.5 ms, total: 10.3 s\n",
      "Wall time: 1.29 s\n"
     ]
    }
   ],
   "source": [
    "%%time\n",
    "correct_cnt = 0\n",
    "for x,target in zip(xss,tss):\n",
    "    out = torch_model(x)\n",
    "    _, pred_label = torch.max(out.data, 1)\n",
    "    correct_cnt += (pred_label == target.data).sum()\n",
    "    \n",
    "print(correct_cnt)"
   ]
  },
  {
   "cell_type": "code",
   "execution_count": 4,
   "metadata": {},
   "outputs": [
    {
     "name": "stdout",
     "output_type": "stream",
     "text": [
      "7033.0\n",
      "CPU times: user 11.4 s, sys: 20 ms, total: 11.4 s\n",
      "Wall time: 1.43 s\n"
     ]
    }
   ],
   "source": [
    "%%time\n",
    "correct_cnt = 0\n",
    "for x,target in zip(xs,ts):\n",
    "    x = my_model(x)\n",
    "    p = i8ie.argmax(x, axis = 1)\n",
    "    correct_cnt += (p == target).sum()\n",
    "\n",
    "print(correct_cnt)"
   ]
  },
  {
   "cell_type": "code",
   "execution_count": 5,
   "metadata": {},
   "outputs": [
    {
     "name": "stdout",
     "output_type": "stream",
     "text": [
      "CPU times: user 678 ms, sys: 19.9 ms, total: 698 ms\n",
      "Wall time: 87.1 ms\n"
     ]
    }
   ],
   "source": [
    "%%time\n",
    "my_model.prepare()\n",
    "for batch_idx, (x, target) in enumerate(cal_loader):\n",
    "    x = my_model(i8ie.tensor(x))\n",
    "    break\n",
    "my_model.convert()"
   ]
  },
  {
   "cell_type": "code",
   "execution_count": 6,
   "metadata": {},
   "outputs": [
    {
     "name": "stdout",
     "output_type": "stream",
     "text": [
      "7020.0\n",
      "CPU times: user 11.1 s, sys: 20.1 ms, total: 11.1 s\n",
      "Wall time: 1.39 s\n"
     ]
    }
   ],
   "source": [
    "%%time\n",
    "correct_cnt = 0\n",
    "for x,target in zip(xs,ts):\n",
    "    x = my_model(x)\n",
    "    p = i8ie.argmax(x, axis = 1)\n",
    "    correct_cnt += (p == target).sum()\n",
    "print(correct_cnt)"
   ]
  }
 ],
 "metadata": {
  "kernelspec": {
   "display_name": "Python 3",
   "language": "python",
   "name": "python3"
  },
  "language_info": {
   "codemirror_mode": {
    "name": "ipython",
    "version": 3
   },
   "file_extension": ".py",
   "mimetype": "text/x-python",
   "name": "python",
   "nbconvert_exporter": "python",
   "pygments_lexer": "ipython3",
   "version": "3.7.4"
  }
 },
 "nbformat": 4,
 "nbformat_minor": 2
}
